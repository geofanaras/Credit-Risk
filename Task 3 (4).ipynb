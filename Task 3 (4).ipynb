{
 "cells": [
  {
   "cell_type": "markdown",
   "id": "97aac44a",
   "metadata": {},
   "source": [
    "#                               **Calculating the Probability of Default**  \n"
   ]
  },
  {
   "cell_type": "markdown",
   "id": "d2f8cb62",
   "metadata": {},
   "source": [
    "###  Begin by importing necessary libraries"
   ]
  },
  {
   "cell_type": "code",
   "execution_count": 22,
   "id": "3c9eabfc",
   "metadata": {},
   "outputs": [],
   "source": [
    "import matplotlib.pyplot as plt\n",
    "import pandas as pd\n",
    "import numpy as np\n",
    "from scipy.stats import linregress\n",
    "from sklearn.model_selection import train_test_split\n",
    "from sklearn.linear_model import LogisticRegression\n",
    "from sklearn.metrics import accuracy_score, precision_score, recall_score, f1_score\n",
    "import numpy as np"
   ]
  },
  {
   "cell_type": "markdown",
   "id": "d52dc74f",
   "metadata": {},
   "source": [
    "### Load and inspect the data"
   ]
  },
  {
   "cell_type": "code",
   "execution_count": 23,
   "id": "84a0f3b6",
   "metadata": {},
   "outputs": [
    {
     "data": {
      "text/html": [
       "<div>\n",
       "<style scoped>\n",
       "    .dataframe tbody tr th:only-of-type {\n",
       "        vertical-align: middle;\n",
       "    }\n",
       "\n",
       "    .dataframe tbody tr th {\n",
       "        vertical-align: top;\n",
       "    }\n",
       "\n",
       "    .dataframe thead th {\n",
       "        text-align: right;\n",
       "    }\n",
       "</style>\n",
       "<table border=\"1\" class=\"dataframe\">\n",
       "  <thead>\n",
       "    <tr style=\"text-align: right;\">\n",
       "      <th></th>\n",
       "      <th>customer_id</th>\n",
       "      <th>credit_lines_outstanding</th>\n",
       "      <th>loan_amt_outstanding</th>\n",
       "      <th>total_debt_outstanding</th>\n",
       "      <th>income</th>\n",
       "      <th>years_employed</th>\n",
       "      <th>fico_score</th>\n",
       "      <th>default</th>\n",
       "    </tr>\n",
       "  </thead>\n",
       "  <tbody>\n",
       "    <tr>\n",
       "      <th>0</th>\n",
       "      <td>8153374</td>\n",
       "      <td>0</td>\n",
       "      <td>5221.545193</td>\n",
       "      <td>3915.471226</td>\n",
       "      <td>78039.38546</td>\n",
       "      <td>5</td>\n",
       "      <td>605</td>\n",
       "      <td>0</td>\n",
       "    </tr>\n",
       "    <tr>\n",
       "      <th>1</th>\n",
       "      <td>7442532</td>\n",
       "      <td>5</td>\n",
       "      <td>1958.928726</td>\n",
       "      <td>8228.752520</td>\n",
       "      <td>26648.43525</td>\n",
       "      <td>2</td>\n",
       "      <td>572</td>\n",
       "      <td>1</td>\n",
       "    </tr>\n",
       "    <tr>\n",
       "      <th>2</th>\n",
       "      <td>2256073</td>\n",
       "      <td>0</td>\n",
       "      <td>3363.009259</td>\n",
       "      <td>2027.830850</td>\n",
       "      <td>65866.71246</td>\n",
       "      <td>4</td>\n",
       "      <td>602</td>\n",
       "      <td>0</td>\n",
       "    </tr>\n",
       "    <tr>\n",
       "      <th>3</th>\n",
       "      <td>4885975</td>\n",
       "      <td>0</td>\n",
       "      <td>4766.648001</td>\n",
       "      <td>2501.730397</td>\n",
       "      <td>74356.88347</td>\n",
       "      <td>5</td>\n",
       "      <td>612</td>\n",
       "      <td>0</td>\n",
       "    </tr>\n",
       "    <tr>\n",
       "      <th>4</th>\n",
       "      <td>4700614</td>\n",
       "      <td>1</td>\n",
       "      <td>1345.827718</td>\n",
       "      <td>1768.826187</td>\n",
       "      <td>23448.32631</td>\n",
       "      <td>6</td>\n",
       "      <td>631</td>\n",
       "      <td>0</td>\n",
       "    </tr>\n",
       "  </tbody>\n",
       "</table>\n",
       "</div>"
      ],
      "text/plain": [
       "   customer_id  credit_lines_outstanding  loan_amt_outstanding  \\\n",
       "0      8153374                         0           5221.545193   \n",
       "1      7442532                         5           1958.928726   \n",
       "2      2256073                         0           3363.009259   \n",
       "3      4885975                         0           4766.648001   \n",
       "4      4700614                         1           1345.827718   \n",
       "\n",
       "   total_debt_outstanding       income  years_employed  fico_score  default  \n",
       "0             3915.471226  78039.38546               5         605        0  \n",
       "1             8228.752520  26648.43525               2         572        1  \n",
       "2             2027.830850  65866.71246               4         602        0  \n",
       "3             2501.730397  74356.88347               5         612        0  \n",
       "4             1768.826187  23448.32631               6         631        0  "
      ]
     },
     "execution_count": 23,
     "metadata": {},
     "output_type": "execute_result"
    }
   ],
   "source": [
    "data = pd.read_csv(r'C:\\Users\\georg\\Downloads\\Task 3 and 4_Loan_Data (2).csv')\n",
    "data.head()"
   ]
  },
  {
   "cell_type": "markdown",
   "id": "bffa141a",
   "metadata": {},
   "source": [
    "### Prepare the independent variables in the vector (X) and the dependent variable (y)\n"
   ]
  },
  {
   "cell_type": "code",
   "execution_count": 24,
   "id": "f5f11a22",
   "metadata": {},
   "outputs": [],
   "source": [
    "X = data[['fico_score', 'years_employed', 'credit_lines_outstanding', 'loan_amt_outstanding', 'total_debt_outstanding', 'income']]\n",
    "y = data['default']"
   ]
  },
  {
   "cell_type": "markdown",
   "id": "9ff01761",
   "metadata": {},
   "source": [
    "### Inspect correlation matrix to identify highly correlated variables"
   ]
  },
  {
   "cell_type": "code",
   "execution_count": 25,
   "id": "6e84aefd",
   "metadata": {},
   "outputs": [
    {
     "data": {
      "text/html": [
       "<div>\n",
       "<style scoped>\n",
       "    .dataframe tbody tr th:only-of-type {\n",
       "        vertical-align: middle;\n",
       "    }\n",
       "\n",
       "    .dataframe tbody tr th {\n",
       "        vertical-align: top;\n",
       "    }\n",
       "\n",
       "    .dataframe thead th {\n",
       "        text-align: right;\n",
       "    }\n",
       "</style>\n",
       "<table border=\"1\" class=\"dataframe\">\n",
       "  <thead>\n",
       "    <tr style=\"text-align: right;\">\n",
       "      <th></th>\n",
       "      <th>fico_score</th>\n",
       "      <th>years_employed</th>\n",
       "      <th>credit_lines_outstanding</th>\n",
       "      <th>loan_amt_outstanding</th>\n",
       "      <th>total_debt_outstanding</th>\n",
       "      <th>income</th>\n",
       "    </tr>\n",
       "  </thead>\n",
       "  <tbody>\n",
       "    <tr>\n",
       "      <th>fico_score</th>\n",
       "      <td>1.000000</td>\n",
       "      <td>0.255873</td>\n",
       "      <td>-0.258177</td>\n",
       "      <td>-0.031373</td>\n",
       "      <td>-0.232246</td>\n",
       "      <td>-0.010528</td>\n",
       "    </tr>\n",
       "    <tr>\n",
       "      <th>years_employed</th>\n",
       "      <td>0.255873</td>\n",
       "      <td>1.000000</td>\n",
       "      <td>-0.087900</td>\n",
       "      <td>-0.158416</td>\n",
       "      <td>-0.174353</td>\n",
       "      <td>0.001814</td>\n",
       "    </tr>\n",
       "    <tr>\n",
       "      <th>credit_lines_outstanding</th>\n",
       "      <td>-0.258177</td>\n",
       "      <td>-0.087900</td>\n",
       "      <td>1.000000</td>\n",
       "      <td>0.080249</td>\n",
       "      <td>0.852210</td>\n",
       "      <td>0.022272</td>\n",
       "    </tr>\n",
       "    <tr>\n",
       "      <th>loan_amt_outstanding</th>\n",
       "      <td>-0.031373</td>\n",
       "      <td>-0.158416</td>\n",
       "      <td>0.080249</td>\n",
       "      <td>1.000000</td>\n",
       "      <td>0.397403</td>\n",
       "      <td>0.835815</td>\n",
       "    </tr>\n",
       "    <tr>\n",
       "      <th>total_debt_outstanding</th>\n",
       "      <td>-0.232246</td>\n",
       "      <td>-0.174353</td>\n",
       "      <td>0.852210</td>\n",
       "      <td>0.397403</td>\n",
       "      <td>1.000000</td>\n",
       "      <td>0.394397</td>\n",
       "    </tr>\n",
       "    <tr>\n",
       "      <th>income</th>\n",
       "      <td>-0.010528</td>\n",
       "      <td>0.001814</td>\n",
       "      <td>0.022272</td>\n",
       "      <td>0.835815</td>\n",
       "      <td>0.394397</td>\n",
       "      <td>1.000000</td>\n",
       "    </tr>\n",
       "  </tbody>\n",
       "</table>\n",
       "</div>"
      ],
      "text/plain": [
       "                          fico_score  years_employed  \\\n",
       "fico_score                  1.000000        0.255873   \n",
       "years_employed              0.255873        1.000000   \n",
       "credit_lines_outstanding   -0.258177       -0.087900   \n",
       "loan_amt_outstanding       -0.031373       -0.158416   \n",
       "total_debt_outstanding     -0.232246       -0.174353   \n",
       "income                     -0.010528        0.001814   \n",
       "\n",
       "                          credit_lines_outstanding  loan_amt_outstanding  \\\n",
       "fico_score                               -0.258177             -0.031373   \n",
       "years_employed                           -0.087900             -0.158416   \n",
       "credit_lines_outstanding                  1.000000              0.080249   \n",
       "loan_amt_outstanding                      0.080249              1.000000   \n",
       "total_debt_outstanding                    0.852210              0.397403   \n",
       "income                                    0.022272              0.835815   \n",
       "\n",
       "                          total_debt_outstanding    income  \n",
       "fico_score                             -0.232246 -0.010528  \n",
       "years_employed                         -0.174353  0.001814  \n",
       "credit_lines_outstanding                0.852210  0.022272  \n",
       "loan_amt_outstanding                    0.397403  0.835815  \n",
       "total_debt_outstanding                  1.000000  0.394397  \n",
       "income                                  0.394397  1.000000  "
      ]
     },
     "execution_count": 25,
     "metadata": {},
     "output_type": "execute_result"
    }
   ],
   "source": [
    "X.corr()"
   ]
  },
  {
   "cell_type": "markdown",
   "id": "37a14a64",
   "metadata": {},
   "source": [
    "### It is clear that two variables exhibit strong correlation. We plot their relationship."
   ]
  },
  {
   "cell_type": "code",
   "execution_count": 26,
   "id": "31667677",
   "metadata": {},
   "outputs": [],
   "source": [
    "def scatterplot(ax, x, y):\n",
    "    lin = linregress(x, y)\n",
    "    m = lin.slope\n",
    "    b = lin.intercept\n",
    "    x_lin = np.linspace(x.min(), x.max(), 100)  # Change to 100 points for smoother line\n",
    "    ax.plot(x_lin, m * x_lin + b, 'r', label='Regression Line')\n",
    "    ax.scatter(x, y, alpha=0.6)\n",
    "    ax.set_xlabel(x.name)\n",
    "    ax.set_ylabel(y.name)\n",
    "    ax.set_title(f'Scatter Plot of {x.name} vs {y.name}')\n",
    "    ax.grid()\n",
    "    ax.legend()"
   ]
  },
  {
   "cell_type": "code",
   "execution_count": 27,
   "id": "c1eff31f",
   "metadata": {},
   "outputs": [
    {
     "data": {
      "image/png": "[encoded data removed]",
      "text/plain": [
       "<Figure size 864x360 with 2 Axes>"
      ]
     },
     "metadata": {
      "needs_background": "light"
     },
     "output_type": "display_data"
    }
   ],
   "source": [
    "fig, axs = plt.subplots(1, 2, figsize=(12, 5))\n",
    "scatterplot(axs[0], X['loan_amt_outstanding'], X['income'])\n",
    "scatterplot(axs[1], X['credit_lines_outstanding'], X['total_debt_outstanding'])\n",
    "plt.tight_layout()\n",
    "plt.show()"
   ]
  },
  {
   "cell_type": "markdown",
   "id": "66465bcd",
   "metadata": {},
   "source": [
    "#### It seems that customers with higher income possess a larger amount of outstanding loans and customers with a larger total debt possess more credit lines outstanding.\n",
    "\n",
    "#### To avoid collinearity we dismiss the two variables ('credit_lines_outstanding','loan_amt_outstanding') in our analysis.  \n",
    "\n",
    "#### In dismissing these variables we avoid running into issues that arise from highly correlated variables when executing regression methods and we achieve a substantial simplification of our model."
   ]
  },
  {
   "cell_type": "markdown",
   "id": "6d55e98b",
   "metadata": {},
   "source": [
    "### Prepare the feature matrix (X) and target (y) for our uncorrellated variables and normalize the X vector."
   ]
  },
  {
   "cell_type": "code",
   "execution_count": 28,
   "id": "e8a63210",
   "metadata": {},
   "outputs": [],
   "source": [
    "X = data[['fico_score', 'years_employed', 'total_debt_outstanding', 'income']]\n",
    "y = data['default']\n",
    "\n",
    "Xnorm=(X-X.mean())/X.std()"
   ]
  },
  {
   "cell_type": "markdown",
   "id": "7be083f8",
   "metadata": {},
   "source": [
    "### At this point we are set to execute our logistic regression model. "
   ]
  },
  {
   "cell_type": "markdown",
   "id": "65cff4bf",
   "metadata": {},
   "source": [
    "#### Before we proceed, there are a couple aspects we should comment on. \n",
    "\n",
    "#### First, we need to make sure that the train set we select is an accurate representation of our data. To that end, we employ a 10-fold cross-validation technique which splits the data set into 4 independent training subsets and tests them on the remaining set. Comparing the results we can deduce whether our fit is stable and reliable. \n",
    "\n",
    "#### Second, it is important to select an appropriate fraction of our data to train. Larger train sets will in general yield better fits, but one has to compromise assessing their predictability. To that end, we consider different test sizes and evaluate their accuracy metrics. "
   ]
  },
  {
   "cell_type": "code",
   "execution_count": 29,
   "id": "acd54fcf",
   "metadata": {},
   "outputs": [
    {
     "name": "stdout",
     "output_type": "stream",
     "text": [
      "Test size: 0.1\n",
      "Mean Coefficients: [-0.80048198 -0.70688896  9.32127842 -5.67035728]\n",
      "Std of Coefficients: [0.03456382 0.01095591 0.02422631 0.01764802]\n",
      "Mean Intercept: -8.371697658958821\n",
      "Mean Accuracy: 0.9824\n",
      "Mean Precision: 0.9671\n",
      "Mean Recall: 0.9371\n",
      "Mean F1 Score: 0.9516\n",
      "---------------------------------------------------\n",
      "Test size: 0.2\n",
      "Mean Coefficients: [-0.79512299 -0.68321126  9.04715687 -5.48901906]\n",
      "Std of Coefficients: [0.03934469 0.01161235 0.05226679 0.0469452 ]\n",
      "Mean Intercept: -8.140448173259418\n",
      "Mean Accuracy: 0.9842\n",
      "Mean Precision: 0.9701\n",
      "Mean Recall: 0.9443\n",
      "Mean F1 Score: 0.9569\n",
      "---------------------------------------------------\n",
      "Test size: 0.3\n",
      "Mean Coefficients: [-0.77038539 -0.66877519  8.74219517 -5.30225969]\n",
      "Std of Coefficients: [0.04905166 0.03320429 0.06667772 0.07712617]\n",
      "Mean Intercept: -7.886578038481294\n",
      "Mean Accuracy: 0.9855\n",
      "Mean Precision: 0.9736\n",
      "Mean Recall: 0.9481\n",
      "Mean F1 Score: 0.9607\n",
      "---------------------------------------------------\n",
      "Test size: 0.4\n",
      "Mean Coefficients: [-0.72091026 -0.6629097   8.44333098 -5.12225235]\n",
      "Std of Coefficients: [0.05435214 0.02215913 0.09242047 0.10284333]\n",
      "Mean Intercept: -7.665711764017142\n",
      "Mean Accuracy: 0.9851\n",
      "Mean Precision: 0.9767\n",
      "Mean Recall: 0.9430\n",
      "Mean F1 Score: 0.9595\n",
      "---------------------------------------------------\n",
      "Test size: 0.5\n",
      "Mean Coefficients: [-0.67804363 -0.6438545   8.13396581 -4.93663739]\n",
      "Std of Coefficients: [0.03928887 0.04164583 0.10917505 0.10215323]\n",
      "Mean Intercept: -7.3917185515277595\n",
      "Mean Accuracy: 0.9846\n",
      "Mean Precision: 0.9754\n",
      "Mean Recall: 0.9407\n",
      "Mean F1 Score: 0.9577\n",
      "---------------------------------------------------\n"
     ]
    }
   ],
   "source": [
    "model = LogisticRegression()\n",
    "\n",
    "test_sizes = [0.1, 0.2, 0.3, 0.4, 0.5]\n",
    "\n",
    "coefficients_mean_dict = {}\n",
    "coefficients_std_dict = {}\n",
    "intercepts_dict = {}\n",
    "accuracy_dict = {}\n",
    "precision_dict = {}\n",
    "recall_dict = {}\n",
    "f1_dict = {}\n",
    "\n",
    "for test_size in test_sizes:\n",
    "    coefficients_list = []\n",
    "    intercepts_list = []\n",
    "    accuracy_list = []\n",
    "    precision_list = []\n",
    "    recall_list = []\n",
    "    f1_list = []\n",
    "\n",
    "    \n",
    "    for random_state in range(5):\n",
    "        \n",
    "        X_train, X_test, y_train, y_test = train_test_split(Xnorm, y, test_size=test_size, random_state=random_state)\n",
    "      \n",
    "        model.fit(X_train, y_train)\n",
    "\n",
    "        y_pred = model.predict(X_test)\n",
    "\n",
    "        coefficients_list.append(model.coef_[0])\n",
    "        intercepts_list.append(model.intercept_[0])\n",
    "\n",
    "        accuracy_list.append(accuracy_score(y_test, y_pred))\n",
    "        precision_list.append(precision_score(y_test, y_pred))\n",
    "        recall_list.append(recall_score(y_test, y_pred))\n",
    "        f1_list.append(f1_score(y_test, y_pred))\n",
    "\n",
    "    coefficients_mean_dict[test_size] = np.mean(coefficients_list, axis=0)\n",
    "    coefficients_std_dict[test_size] = np.std(coefficients_list, axis=0)\n",
    "    intercepts_dict[test_size] = np.mean(intercepts_list, axis=0)\n",
    "    accuracy_dict[test_size] = np.mean(accuracy_list)\n",
    "    precision_dict[test_size] = np.mean(precision_list)\n",
    "    recall_dict[test_size] = np.mean(recall_list)\n",
    "    f1_dict[test_size] = np.mean(f1_list)\n",
    "\n",
    "for test_size in test_sizes:\n",
    "    print(f\"Test size: {test_size}\")\n",
    "    print(f\"Mean Coefficients: {coefficients_mean_dict[test_size]}\")\n",
    "    print(f\"Std of Coefficients: {coefficients_std_dict[test_size]}\")\n",
    "    print(f\"Mean Intercept: {intercepts_dict[test_size]}\")\n",
    "    print(f\"Mean Accuracy: {accuracy_dict[test_size]:.4f}\")\n",
    "    print(f\"Mean Precision: {precision_dict[test_size]:.4f}\")\n",
    "    print(f\"Mean Recall: {recall_dict[test_size]:.4f}\")\n",
    "    print(f\"Mean F1 Score: {f1_dict[test_size]:.4f}\")\n",
    "    print(\"---------------------------------------------------\")\n"
   ]
  },
  {
   "cell_type": "markdown",
   "id": "1b8403ad",
   "metadata": {},
   "source": [
    "### The evaluation metrics are for the most part similar, so a good strategy would be to select test size 30% which offers a good compromise between fitting and predictability."
   ]
  },
  {
   "cell_type": "markdown",
   "id": "7dfb2d01",
   "metadata": {},
   "source": [
    "### We finally employ our model to a new customer. Inserting the customer features we are able to obtain the probability of default and decide whether to grant a new loan."
   ]
  },
  {
   "cell_type": "code",
   "execution_count": 47,
   "id": "0cd2ec24",
   "metadata": {},
   "outputs": [
    {
     "name": "stdout",
     "output_type": "stream",
     "text": [
      "Predicted Probability of Default: 48.57%\n"
     ]
    }
   ],
   "source": [
    "coefficients = coefficients_mean_dict[0.3]\n",
    "intercept = intercepts_dict[0.3]\n",
    "\n",
    "fico_score=800\n",
    "years_employed=10\n",
    "total_debt_outstanding=40000\n",
    "income=180000\n",
    "\n",
    "new_customer = np.array([fico_score, years_employed, total_debt_outstanding, income])\n",
    "\n",
    "new_customer_norm=(new_customer-X.mean())/X.std()\n",
    "\n",
    "log_odds = np.dot(coefficients, new_customer_norm) + intercept\n",
    "\n",
    "probability = 100*(1 / (1 + np.exp(-log_odds)))\n",
    "\n",
    "print(f\"Predicted Probability of Default: {probability:.2f}%\")"
   ]
  },
  {
   "cell_type": "markdown",
   "id": "667b9310",
   "metadata": {},
   "source": [
    "### Calculated probability of default for a customer with features:\n",
    "#### Fico Score: 800\n",
    "#### years employed: 10\n",
    "#### total debt outstanding: 40.000 \n",
    "#### income:180.000 \n",
    "#### is 48.57%"
   ]
  }
 ],
 "metadata": {
  "kernelspec": {
   "display_name": "Python 3 (ipykernel)",
   "language": "python",
   "name": "python3"
  },
  "language_info": {
   "codemirror_mode": {
    "name": "ipython",
    "version": 3
   },
   "file_extension": ".py",
   "mimetype": "text/x-python",
   "name": "python",
   "nbconvert_exporter": "python",
   "pygments_lexer": "ipython3",
   "version": "3.9.12"
  }
 },
 "nbformat": 4,
 "nbformat_minor": 5
}
